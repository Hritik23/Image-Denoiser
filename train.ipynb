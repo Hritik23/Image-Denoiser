{
 "cells": [
  {
   "cell_type": "code",
   "execution_count": null,
   "metadata": {},
   "outputs": [],
   "source": [
    "import tensorflow as tf\n",
    "import numpy as np\n",
    "import matplotlib.pyplot as plt\n",
    "import model\n",
    "import data"
   ]
  },
  {
   "cell_type": "code",
   "execution_count": null,
   "metadata": {},
   "outputs": [],
   "source": [
    "(x_train, x_test)=data.load_data()\n",
    "print(\"x_train shape :\", x_train.shape)\n",
    "print(\"x_test shape :\", x_test.shape)"
   ]
  },
  {
   "cell_type": "code",
   "execution_count": null,
   "metadata": {},
   "outputs": [],
   "source": [
    "\n",
    "_, axs = plt.subplots(1, 10, figsize=(20,10))\n",
    "plt.gray()\n",
    "for i in range(10):\n",
    "    axs[i].imshow(x_train[i].reshape(28,28))\n",
    "    \n",
    "    axs[i].get_xaxis().set_visible(False)\n",
    "    axs[i].get_yaxis().set_visible(False)\n",
    "plt.show()"
   ]
  },
  {
   "cell_type": "code",
   "execution_count": null,
   "metadata": {},
   "outputs": [],
   "source": [
    "noise_factor=1"
   ]
  },
  {
   "cell_type": "code",
   "execution_count": null,
   "metadata": {},
   "outputs": [],
   "source": [
    "(x_train_noisy, x_test_noisy)=data.add_gaussian_noise(noise_factor, x_train, x_test)\n",
    "print(\"x_train_noisy shape :\", x_train_noisy.shape)\n",
    "print(\"x_test_noisy shape :\", x_test_noisy.shape)\n"
   ]
  },
  {
   "cell_type": "code",
   "execution_count": null,
   "metadata": {},
   "outputs": [],
   "source": [
    "_, axs = plt.subplots(1, 10, figsize=(20,10))\n",
    "plt.gray()\n",
    "for i in range(10):\n",
    "    axs[i].imshow(x_train_noisy[i].reshape(28,28))\n",
    "    \n",
    "    axs[i].get_xaxis().set_visible(False)\n",
    "    axs[i].get_yaxis().set_visible(False)\n",
    "plt.show()"
   ]
  },
  {
   "cell_type": "code",
   "execution_count": null,
   "metadata": {},
   "outputs": [],
   "source": [
    "input_shape=(28,28,1)\n",
    "(encoder, autoencoder)=model.build_model(input_shape)\n",
    "encoder.summary()\n",
    "autoencoder.summary()\n"
   ]
  },
  {
   "cell_type": "code",
   "execution_count": null,
   "metadata": {},
   "outputs": [],
   "source": [
    "autoencoder.compile(loss='binary_crossentropy', optimizer='adam')"
   ]
  },
  {
   "cell_type": "code",
   "execution_count": null,
   "metadata": {},
   "outputs": [],
   "source": [
    "%load_ext tensorboard\n",
    "callback1=tf.keras.callbacks.TensorBoard(\n",
    "    log_dir=\"logs/noise_f_\"+str(int(noise_factor*100))\n",
    "    )\n",
    "callback2=tf.keras.callbacks.ModelCheckpoint(\n",
    "    filepath=\"weights/noise_f_\"+str(int(noise_factor*100))+\"/cp.ckpt\", monitor='val_loss', verbose=1, save_best_only=True,\n",
    "    save_weights_only=True\n",
    "    )"
   ]
  },
  {
   "cell_type": "code",
   "execution_count": null,
   "metadata": {
    "scrolled": true
   },
   "outputs": [],
   "source": [
    "autoencoder.fit(\n",
    "    x=x_train_noisy, y=x_train, batch_size=32, epochs=100, verbose=1,\n",
    "    callbacks=[callback1, callback2], validation_data=(x_test_noisy, x_test), shuffle=True,\n",
    ")"
   ]
  },
  {
   "cell_type": "code",
   "execution_count": null,
   "metadata": {},
   "outputs": [],
   "source": [
    "#%tensorboard --logdir=logs/noise_f_+str(int(noise_factor*100))/ --host=localhost --port 8088"
   ]
  }
 ],
 "metadata": {
  "kernelspec": {
   "display_name": "Python 3 (ipykernel)",
   "language": "python",
   "name": "python3"
  },
  "language_info": {
   "codemirror_mode": {
    "name": "ipython",
    "version": 3
   },
   "file_extension": ".py",
   "mimetype": "text/x-python",
   "name": "python",
   "nbconvert_exporter": "python",
   "pygments_lexer": "ipython3",
   "version": "3.7.11"
  }
 },
 "nbformat": 4,
 "nbformat_minor": 4
}
